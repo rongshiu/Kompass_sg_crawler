{
 "cells": [
  {
   "cell_type": "code",
   "execution_count": 1,
   "metadata": {},
   "outputs": [],
   "source": [
    "from selenium import webdriver\n",
    "from selenium.webdriver.common.keys import Keys\n",
    "from selenium.webdriver.common.action_chains import ActionChains\n",
    "from selenium.webdriver.chrome.options import Options \n",
    "import pandas as pd\n",
    "import bs4\n",
    "import requests\n",
    "import re\n",
    "import numpy as np\n",
    "import time"
   ]
  },
  {
   "cell_type": "code",
   "execution_count": 2,
   "metadata": {},
   "outputs": [],
   "source": [
    "chrome_path=r\"C:\\Users\\rongshiu\\Desktop\\chromedriver\"\n",
    "driver=webdriver.Chrome(chrome_path)"
   ]
  },
  {
   "cell_type": "code",
   "execution_count": 3,
   "metadata": {},
   "outputs": [],
   "source": [
    "records=[]\n",
    "for i in range(1,21):\n",
    "    driver.get('https://sg.kompass.com/s/business-services/11/page-{}'.format(i))\n",
    "    details_containers=driver.find_elements_by_css_selector('div.kompassImage')\n",
    "    for details_container in details_containers:\n",
    "        ActionChains(driver) \\\n",
    "        .key_down(Keys.CONTROL) \\\n",
    "        .click(details_container) \\\n",
    "        .key_up(Keys.CONTROL) \\\n",
    "        .perform()\n",
    "        current_window = driver.current_window_handle\n",
    "        new_window = [window for window in driver.window_handles if window != current_window][0]\n",
    "        driver.switch_to.window(new_window)\n",
    "        \n",
    "        time.sleep(3)\n",
    "\n",
    "        html=driver.page_source\n",
    "        soup=bs4.BeautifulSoup(html,'lxml')\n",
    "        \n",
    "        if soup.find('div',class_='kompassImage ') !=None:\n",
    "            image_url=soup.find('div',class_='kompassImage ')\n",
    "            logo= [img['src'] for img in image_url.select('img[src]')][0]\n",
    "        else:\n",
    "            logo=\"\"\n",
    "            \n",
    "            \n",
    "        if soup.find('div',class_='headerRowLeft col-xs-12 col-sm-12 col-md-8') != None:\n",
    "            company_name_container=soup.find('div',class_='headerRowLeft col-xs-12 col-sm-12 col-md-8')  \n",
    "            company_name=company_name_container.find('h1').text.strip()\n",
    "        else:\n",
    "            company_name=\"\"\n",
    "        \n",
    "        if soup.find('div', class_='addressCoordinates') !=None:\n",
    "            address_container=soup.find('div', class_='addressCoordinates')\n",
    "            address=address_container.find('p').text.strip()\n",
    "            address=\" \".join(address.split())\n",
    "        else:\n",
    "            address=\"\"\n",
    "        \n",
    "        if soup.find('span', attrs={'itemprop':'description'}) !=None:\n",
    "            presentation=soup.find('span', attrs={'itemprop':'description'}).text.strip()\n",
    "        else:\n",
    "            presentation=\"\"\n",
    "        \n",
    "        general_info_list=[]\n",
    "        if soup.find('div',class_='presentation global')!=None:\n",
    "            general_info=soup.find('div',class_='presentation global')\n",
    "            general=general_info.find_all('td')\n",
    "            for info in general:\n",
    "                general_info_list.append(info.text.strip())\n",
    "            general_info_list=[e.replace('\\xa0',' ') for e in general_info_list]\n",
    "            list1,list2=general_info_list[::2],general_info_list[1::2]\n",
    "            general_info_list=list(zip(list1,list2))\n",
    "            if general_info.find('td',class_='listWww')!=None:\n",
    "                website=general_info.find('td',class_='listWww').text.strip()\n",
    "            else:\n",
    "                website=\"\"\n",
    "                \n",
    "        if len(soup.find_all('div',attrs={'class':'presentation'}))>=3:\n",
    "            banks_container=soup.find_all('div',attrs={'class':'presentation'})[2]\n",
    "            if banks_container.find('strong') !=None:\n",
    "                banks=banks_container.find('strong').text.strip()\n",
    "            else:\n",
    "                banks=\"\"\n",
    "        else:\n",
    "            banks=\"\"\n",
    "        \n",
    "        if soup.find('p',class_='number') !=None:\n",
    "            no_employees=soup.find_all('p',class_='number')[1].text.strip()\n",
    "        else:\n",
    "            no_employees=\"\"\n",
    "            \n",
    "        link=driver.current_url\n",
    "        \n",
    "        brands_list=[]\n",
    "        if soup.find('div',class_='presentation brand lhEqual tradenames') !=None:\n",
    "            brands_container=soup.find('div',class_='presentation brand lhEqual tradenames')\n",
    "            brands=brands_container.find_all('p',class_='tradeName')\n",
    "            for brand in brands:\n",
    "                brands_list.append(brand.text.strip())\n",
    "                \n",
    "        records.append((company_name,logo,address,presentation,general_info_list,website,banks,no_employees,brands_list,link))\n",
    "        \n",
    "        driver.close()\n",
    "        driver.switch_to.window(current_window)"
   ]
  },
  {
   "cell_type": "code",
   "execution_count": 4,
   "metadata": {},
   "outputs": [],
   "source": [
    "df1=pd.DataFrame(records,columns=['Company Name','Logo Image','Address','Presentation','General Information List','Website','Banks','No of Employees','Brands List','Link'])"
   ]
  },
  {
   "cell_type": "code",
   "execution_count": 5,
   "metadata": {},
   "outputs": [],
   "source": [
    "df1.to_csv('Kompass_Crawler.csv',encoding='utf-8-sig',index=False)"
   ]
  }
 ],
 "metadata": {
  "kernelspec": {
   "display_name": "Python 3",
   "language": "python",
   "name": "python3"
  },
  "language_info": {
   "codemirror_mode": {
    "name": "ipython",
    "version": 3
   },
   "file_extension": ".py",
   "mimetype": "text/x-python",
   "name": "python",
   "nbconvert_exporter": "python",
   "pygments_lexer": "ipython3",
   "version": "3.6.6"
  }
 },
 "nbformat": 4,
 "nbformat_minor": 2
}
